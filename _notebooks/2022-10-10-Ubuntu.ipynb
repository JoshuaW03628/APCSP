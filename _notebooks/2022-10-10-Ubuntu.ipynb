{
 "cells": [
  {
   "cell_type": "code",
   "execution_count": 6,
   "metadata": {},
   "outputs": [
    {
     "name": "stdout",
     "output_type": "stream",
     "text": [
      "Requirement already satisfied: polygon-api-client in /Users/josh/opt/anaconda3/lib/python3.9/site-packages (1.3.1)\n",
      "Requirement already satisfied: websockets<11.0,>=10.3 in /Users/josh/opt/anaconda3/lib/python3.9/site-packages (from polygon-api-client) (10.3)\n",
      "Requirement already satisfied: urllib3<2.0.0,>=1.26.9 in /Users/josh/opt/anaconda3/lib/python3.9/site-packages (from polygon-api-client) (1.26.9)\n",
      "Requirement already satisfied: certifi<2023.0.0,>=2022.5.18 in /Users/josh/opt/anaconda3/lib/python3.9/site-packages (from polygon-api-client) (2022.9.24)\n",
      "Note: you may need to restart the kernel to use updated packages.\n"
     ]
    }
   ],
   "source": [
    "pip install polygon-api-client"
   ]
  },
  {
   "cell_type": "code",
   "execution_count": 10,
   "metadata": {},
   "outputs": [],
   "source": [
    "from polygon import RESTClient"
   ]
  },
  {
   "cell_type": "code",
   "execution_count": 13,
   "metadata": {},
   "outputs": [
    {
     "ename": "AuthError",
     "evalue": "Must specify env var POLYGON_API_KEY or pass api_key in constructor",
     "output_type": "error",
     "traceback": [
      "\u001b[0;31m---------------------------------------------------------------------------\u001b[0m",
      "\u001b[0;31mAuthError\u001b[0m                                 Traceback (most recent call last)",
      "\u001b[1;32m/Users/josh/APCSP/_notebooks/2022-10-10-Ubuntu.ipynb Cell 3\u001b[0m in \u001b[0;36m<cell line: 1>\u001b[0;34m()\u001b[0m\n\u001b[0;32m----> <a href='vscode-notebook-cell:/Users/josh/APCSP/_notebooks/2022-10-10-Ubuntu.ipynb#W0sZmlsZQ%3D%3D?line=0'>1</a>\u001b[0m client \u001b[39m=\u001b[39m RESTClient() \u001b[39m# POLYGON_API_KEY is used\u001b[39;00m\n\u001b[1;32m      <a href='vscode-notebook-cell:/Users/josh/APCSP/_notebooks/2022-10-10-Ubuntu.ipynb#W0sZmlsZQ%3D%3D?line=1'>2</a>\u001b[0m client \u001b[39m=\u001b[39m RESTClient( \u001b[39m\"\u001b[39m\u001b[39m4pZoY9gYTgLeKmvejpqzgChg8ElExSJr\u001b[39m\u001b[39m\"\u001b[39m )\n",
      "File \u001b[0;32m~/opt/anaconda3/lib/python3.9/site-packages/polygon/rest/__init__.py:48\u001b[0m, in \u001b[0;36mRESTClient.__init__\u001b[0;34m(self, api_key, connect_timeout, read_timeout, num_pools, retries, base, verbose)\u001b[0m\n\u001b[1;32m     38\u001b[0m \u001b[39mdef\u001b[39;00m \u001b[39m__init__\u001b[39m(\n\u001b[1;32m     39\u001b[0m     \u001b[39mself\u001b[39m,\n\u001b[1;32m     40\u001b[0m     api_key: Optional[\u001b[39mstr\u001b[39m] \u001b[39m=\u001b[39m os\u001b[39m.\u001b[39mgetenv(ENV_KEY),\n\u001b[0;32m   (...)\u001b[0m\n\u001b[1;32m     46\u001b[0m     verbose: \u001b[39mbool\u001b[39m \u001b[39m=\u001b[39m \u001b[39mFalse\u001b[39;00m,\n\u001b[1;32m     47\u001b[0m ):\n\u001b[0;32m---> 48\u001b[0m     \u001b[39msuper\u001b[39;49m()\u001b[39m.\u001b[39;49m\u001b[39m__init__\u001b[39;49m(\n\u001b[1;32m     49\u001b[0m         api_key\u001b[39m=\u001b[39;49mapi_key,\n\u001b[1;32m     50\u001b[0m         connect_timeout\u001b[39m=\u001b[39;49mconnect_timeout,\n\u001b[1;32m     51\u001b[0m         read_timeout\u001b[39m=\u001b[39;49mread_timeout,\n\u001b[1;32m     52\u001b[0m         num_pools\u001b[39m=\u001b[39;49mnum_pools,\n\u001b[1;32m     53\u001b[0m         retries\u001b[39m=\u001b[39;49mretries,\n\u001b[1;32m     54\u001b[0m         base\u001b[39m=\u001b[39;49mbase,\n\u001b[1;32m     55\u001b[0m         verbose\u001b[39m=\u001b[39;49mverbose,\n\u001b[1;32m     56\u001b[0m     )\n\u001b[1;32m     57\u001b[0m     \u001b[39mself\u001b[39m\u001b[39m.\u001b[39mvx \u001b[39m=\u001b[39m VXClient(\n\u001b[1;32m     58\u001b[0m         api_key\u001b[39m=\u001b[39mapi_key,\n\u001b[1;32m     59\u001b[0m         connect_timeout\u001b[39m=\u001b[39mconnect_timeout,\n\u001b[0;32m   (...)\u001b[0m\n\u001b[1;32m     64\u001b[0m         verbose\u001b[39m=\u001b[39mverbose,\n\u001b[1;32m     65\u001b[0m     )\n",
      "File \u001b[0;32m~/opt/anaconda3/lib/python3.9/site-packages/polygon/rest/base.py:33\u001b[0m, in \u001b[0;36mBaseClient.__init__\u001b[0;34m(self, api_key, connect_timeout, read_timeout, num_pools, retries, base, verbose)\u001b[0m\n\u001b[1;32m     22\u001b[0m \u001b[39mdef\u001b[39;00m \u001b[39m__init__\u001b[39m(\n\u001b[1;32m     23\u001b[0m     \u001b[39mself\u001b[39m,\n\u001b[1;32m     24\u001b[0m     api_key: Optional[\u001b[39mstr\u001b[39m],\n\u001b[0;32m   (...)\u001b[0m\n\u001b[1;32m     30\u001b[0m     verbose: \u001b[39mbool\u001b[39m,\n\u001b[1;32m     31\u001b[0m ):\n\u001b[1;32m     32\u001b[0m     \u001b[39mif\u001b[39;00m api_key \u001b[39mis\u001b[39;00m \u001b[39mNone\u001b[39;00m:\n\u001b[0;32m---> 33\u001b[0m         \u001b[39mraise\u001b[39;00m AuthError(\n\u001b[1;32m     34\u001b[0m             \u001b[39mf\u001b[39m\u001b[39m\"\u001b[39m\u001b[39mMust specify env var POLYGON_API_KEY or pass api_key in constructor\u001b[39m\u001b[39m\"\u001b[39m\n\u001b[1;32m     35\u001b[0m         )\n\u001b[1;32m     36\u001b[0m     \u001b[39mself\u001b[39m\u001b[39m.\u001b[39mAPI_KEY \u001b[39m=\u001b[39m api_key\n\u001b[1;32m     37\u001b[0m     \u001b[39mself\u001b[39m\u001b[39m.\u001b[39mBASE \u001b[39m=\u001b[39m base\n",
      "\u001b[0;31mAuthError\u001b[0m: Must specify env var POLYGON_API_KEY or pass api_key in constructor"
     ]
    }
   ],
   "source": [
    "client = RESTClient(4pZoY9gYTgLeKmvejpqzgChg8ElExSJr) # POLYGON_API_KEY is used\n",
    "client = RESTClient( \"4pZoY9gYTgLeKmvejpqzgChg8ElExSJr\" ) # api_key is used"
   ]
  },
  {
   "cell_type": "code",
   "execution_count": 8,
   "metadata": {},
   "outputs": [
    {
     "ename": "AuthError",
     "evalue": "Must specify env var POLYGON_API_KEY or pass api_key in constructor",
     "output_type": "error",
     "traceback": [
      "\u001b[0;31m---------------------------------------------------------------------------\u001b[0m",
      "\u001b[0;31mAuthError\u001b[0m                                 Traceback (most recent call last)",
      "\u001b[1;32m/Users/josh/APCSP/_notebooks/2022-10-10-Ubuntu.ipynb Cell 3\u001b[0m in \u001b[0;36m<cell line: 3>\u001b[0;34m()\u001b[0m\n\u001b[1;32m      <a href='vscode-notebook-cell:/Users/josh/APCSP/_notebooks/2022-10-10-Ubuntu.ipynb#W1sZmlsZQ%3D%3D?line=0'>1</a>\u001b[0m \u001b[39mfrom\u001b[39;00m \u001b[39mpolygon\u001b[39;00m \u001b[39mimport\u001b[39;00m RESTClient\n\u001b[0;32m----> <a href='vscode-notebook-cell:/Users/josh/APCSP/_notebooks/2022-10-10-Ubuntu.ipynb#W1sZmlsZQ%3D%3D?line=2'>3</a>\u001b[0m client \u001b[39m=\u001b[39m RESTClient()\n\u001b[1;32m      <a href='vscode-notebook-cell:/Users/josh/APCSP/_notebooks/2022-10-10-Ubuntu.ipynb#W1sZmlsZQ%3D%3D?line=4'>5</a>\u001b[0m aggs \u001b[39m=\u001b[39m client\u001b[39m.\u001b[39mget_aggs(\u001b[39m\"\u001b[39m\u001b[39mAAPL\u001b[39m\u001b[39m\"\u001b[39m, \u001b[39m1\u001b[39m, \u001b[39m\"\u001b[39m\u001b[39mday\u001b[39m\u001b[39m\"\u001b[39m, \u001b[39m\"\u001b[39m\u001b[39m2022-04-04\u001b[39m\u001b[39m\"\u001b[39m, \u001b[39m\"\u001b[39m\u001b[39m2022-04-04\u001b[39m\u001b[39m\"\u001b[39m)\n\u001b[1;32m      <a href='vscode-notebook-cell:/Users/josh/APCSP/_notebooks/2022-10-10-Ubuntu.ipynb#W1sZmlsZQ%3D%3D?line=5'>6</a>\u001b[0m \u001b[39mprint\u001b[39m(aggs)\n",
      "File \u001b[0;32m~/opt/anaconda3/lib/python3.9/site-packages/polygon/rest/__init__.py:48\u001b[0m, in \u001b[0;36mRESTClient.__init__\u001b[0;34m(self, api_key, connect_timeout, read_timeout, num_pools, retries, base, verbose)\u001b[0m\n\u001b[1;32m     38\u001b[0m \u001b[39mdef\u001b[39;00m \u001b[39m__init__\u001b[39m(\n\u001b[1;32m     39\u001b[0m     \u001b[39mself\u001b[39m,\n\u001b[1;32m     40\u001b[0m     api_key: Optional[\u001b[39mstr\u001b[39m] \u001b[39m=\u001b[39m os\u001b[39m.\u001b[39mgetenv(ENV_KEY),\n\u001b[0;32m   (...)\u001b[0m\n\u001b[1;32m     46\u001b[0m     verbose: \u001b[39mbool\u001b[39m \u001b[39m=\u001b[39m \u001b[39mFalse\u001b[39;00m,\n\u001b[1;32m     47\u001b[0m ):\n\u001b[0;32m---> 48\u001b[0m     \u001b[39msuper\u001b[39;49m()\u001b[39m.\u001b[39;49m\u001b[39m__init__\u001b[39;49m(\n\u001b[1;32m     49\u001b[0m         api_key\u001b[39m=\u001b[39;49mapi_key,\n\u001b[1;32m     50\u001b[0m         connect_timeout\u001b[39m=\u001b[39;49mconnect_timeout,\n\u001b[1;32m     51\u001b[0m         read_timeout\u001b[39m=\u001b[39;49mread_timeout,\n\u001b[1;32m     52\u001b[0m         num_pools\u001b[39m=\u001b[39;49mnum_pools,\n\u001b[1;32m     53\u001b[0m         retries\u001b[39m=\u001b[39;49mretries,\n\u001b[1;32m     54\u001b[0m         base\u001b[39m=\u001b[39;49mbase,\n\u001b[1;32m     55\u001b[0m         verbose\u001b[39m=\u001b[39;49mverbose,\n\u001b[1;32m     56\u001b[0m     )\n\u001b[1;32m     57\u001b[0m     \u001b[39mself\u001b[39m\u001b[39m.\u001b[39mvx \u001b[39m=\u001b[39m VXClient(\n\u001b[1;32m     58\u001b[0m         api_key\u001b[39m=\u001b[39mapi_key,\n\u001b[1;32m     59\u001b[0m         connect_timeout\u001b[39m=\u001b[39mconnect_timeout,\n\u001b[0;32m   (...)\u001b[0m\n\u001b[1;32m     64\u001b[0m         verbose\u001b[39m=\u001b[39mverbose,\n\u001b[1;32m     65\u001b[0m     )\n",
      "File \u001b[0;32m~/opt/anaconda3/lib/python3.9/site-packages/polygon/rest/base.py:33\u001b[0m, in \u001b[0;36mBaseClient.__init__\u001b[0;34m(self, api_key, connect_timeout, read_timeout, num_pools, retries, base, verbose)\u001b[0m\n\u001b[1;32m     22\u001b[0m \u001b[39mdef\u001b[39;00m \u001b[39m__init__\u001b[39m(\n\u001b[1;32m     23\u001b[0m     \u001b[39mself\u001b[39m,\n\u001b[1;32m     24\u001b[0m     api_key: Optional[\u001b[39mstr\u001b[39m],\n\u001b[0;32m   (...)\u001b[0m\n\u001b[1;32m     30\u001b[0m     verbose: \u001b[39mbool\u001b[39m,\n\u001b[1;32m     31\u001b[0m ):\n\u001b[1;32m     32\u001b[0m     \u001b[39mif\u001b[39;00m api_key \u001b[39mis\u001b[39;00m \u001b[39mNone\u001b[39;00m:\n\u001b[0;32m---> 33\u001b[0m         \u001b[39mraise\u001b[39;00m AuthError(\n\u001b[1;32m     34\u001b[0m             \u001b[39mf\u001b[39m\u001b[39m\"\u001b[39m\u001b[39mMust specify env var POLYGON_API_KEY or pass api_key in constructor\u001b[39m\u001b[39m\"\u001b[39m\n\u001b[1;32m     35\u001b[0m         )\n\u001b[1;32m     36\u001b[0m     \u001b[39mself\u001b[39m\u001b[39m.\u001b[39mAPI_KEY \u001b[39m=\u001b[39m api_key\n\u001b[1;32m     37\u001b[0m     \u001b[39mself\u001b[39m\u001b[39m.\u001b[39mBASE \u001b[39m=\u001b[39m base\n",
      "\u001b[0;31mAuthError\u001b[0m: Must specify env var POLYGON_API_KEY or pass api_key in constructor"
     ]
    }
   ],
   "source": [
    "from polygon import RESTClient\n",
    "\n",
    "client = RESTClient()\n",
    "\n",
    "aggs = client.get_aggs(\"AAPL\", 1, \"day\", \"2022-04-04\", \"2022-04-04\")\n",
    "print(aggs)\n"
   ]
  },
  {
   "cell_type": "code",
   "execution_count": 9,
   "metadata": {},
   "outputs": [
    {
     "ename": "AuthError",
     "evalue": "Must specify env var POLYGON_API_KEY or pass api_key in constructor",
     "output_type": "error",
     "traceback": [
      "\u001b[0;31m---------------------------------------------------------------------------\u001b[0m",
      "\u001b[0;31mAuthError\u001b[0m                                 Traceback (most recent call last)",
      "\u001b[1;32m/Users/josh/APCSP/_notebooks/2022-10-10-Ubuntu.ipynb Cell 4\u001b[0m in \u001b[0;36m<cell line: 3>\u001b[0;34m()\u001b[0m\n\u001b[1;32m      <a href='vscode-notebook-cell:/Users/josh/APCSP/_notebooks/2022-10-10-Ubuntu.ipynb#W2sZmlsZQ%3D%3D?line=0'>1</a>\u001b[0m \u001b[39mfrom\u001b[39;00m \u001b[39mpolygon\u001b[39;00m \u001b[39mimport\u001b[39;00m RESTClient\n\u001b[0;32m----> <a href='vscode-notebook-cell:/Users/josh/APCSP/_notebooks/2022-10-10-Ubuntu.ipynb#W2sZmlsZQ%3D%3D?line=2'>3</a>\u001b[0m client \u001b[39m=\u001b[39m RESTClient()\n\u001b[1;32m      <a href='vscode-notebook-cell:/Users/josh/APCSP/_notebooks/2022-10-10-Ubuntu.ipynb#W2sZmlsZQ%3D%3D?line=4'>5</a>\u001b[0m trades \u001b[39m=\u001b[39m []\n\u001b[1;32m      <a href='vscode-notebook-cell:/Users/josh/APCSP/_notebooks/2022-10-10-Ubuntu.ipynb#W2sZmlsZQ%3D%3D?line=5'>6</a>\u001b[0m \u001b[39mfor\u001b[39;00m t \u001b[39min\u001b[39;00m client\u001b[39m.\u001b[39mlist_trades(\u001b[39m\"\u001b[39m\u001b[39mAAA\u001b[39m\u001b[39m\"\u001b[39m, \u001b[39m\"\u001b[39m\u001b[39m2022-04-04\u001b[39m\u001b[39m\"\u001b[39m, limit\u001b[39m=\u001b[39m\u001b[39m5\u001b[39m):\n",
      "File \u001b[0;32m~/opt/anaconda3/lib/python3.9/site-packages/polygon/rest/__init__.py:48\u001b[0m, in \u001b[0;36mRESTClient.__init__\u001b[0;34m(self, api_key, connect_timeout, read_timeout, num_pools, retries, base, verbose)\u001b[0m\n\u001b[1;32m     38\u001b[0m \u001b[39mdef\u001b[39;00m \u001b[39m__init__\u001b[39m(\n\u001b[1;32m     39\u001b[0m     \u001b[39mself\u001b[39m,\n\u001b[1;32m     40\u001b[0m     api_key: Optional[\u001b[39mstr\u001b[39m] \u001b[39m=\u001b[39m os\u001b[39m.\u001b[39mgetenv(ENV_KEY),\n\u001b[0;32m   (...)\u001b[0m\n\u001b[1;32m     46\u001b[0m     verbose: \u001b[39mbool\u001b[39m \u001b[39m=\u001b[39m \u001b[39mFalse\u001b[39;00m,\n\u001b[1;32m     47\u001b[0m ):\n\u001b[0;32m---> 48\u001b[0m     \u001b[39msuper\u001b[39;49m()\u001b[39m.\u001b[39;49m\u001b[39m__init__\u001b[39;49m(\n\u001b[1;32m     49\u001b[0m         api_key\u001b[39m=\u001b[39;49mapi_key,\n\u001b[1;32m     50\u001b[0m         connect_timeout\u001b[39m=\u001b[39;49mconnect_timeout,\n\u001b[1;32m     51\u001b[0m         read_timeout\u001b[39m=\u001b[39;49mread_timeout,\n\u001b[1;32m     52\u001b[0m         num_pools\u001b[39m=\u001b[39;49mnum_pools,\n\u001b[1;32m     53\u001b[0m         retries\u001b[39m=\u001b[39;49mretries,\n\u001b[1;32m     54\u001b[0m         base\u001b[39m=\u001b[39;49mbase,\n\u001b[1;32m     55\u001b[0m         verbose\u001b[39m=\u001b[39;49mverbose,\n\u001b[1;32m     56\u001b[0m     )\n\u001b[1;32m     57\u001b[0m     \u001b[39mself\u001b[39m\u001b[39m.\u001b[39mvx \u001b[39m=\u001b[39m VXClient(\n\u001b[1;32m     58\u001b[0m         api_key\u001b[39m=\u001b[39mapi_key,\n\u001b[1;32m     59\u001b[0m         connect_timeout\u001b[39m=\u001b[39mconnect_timeout,\n\u001b[0;32m   (...)\u001b[0m\n\u001b[1;32m     64\u001b[0m         verbose\u001b[39m=\u001b[39mverbose,\n\u001b[1;32m     65\u001b[0m     )\n",
      "File \u001b[0;32m~/opt/anaconda3/lib/python3.9/site-packages/polygon/rest/base.py:33\u001b[0m, in \u001b[0;36mBaseClient.__init__\u001b[0;34m(self, api_key, connect_timeout, read_timeout, num_pools, retries, base, verbose)\u001b[0m\n\u001b[1;32m     22\u001b[0m \u001b[39mdef\u001b[39;00m \u001b[39m__init__\u001b[39m(\n\u001b[1;32m     23\u001b[0m     \u001b[39mself\u001b[39m,\n\u001b[1;32m     24\u001b[0m     api_key: Optional[\u001b[39mstr\u001b[39m],\n\u001b[0;32m   (...)\u001b[0m\n\u001b[1;32m     30\u001b[0m     verbose: \u001b[39mbool\u001b[39m,\n\u001b[1;32m     31\u001b[0m ):\n\u001b[1;32m     32\u001b[0m     \u001b[39mif\u001b[39;00m api_key \u001b[39mis\u001b[39;00m \u001b[39mNone\u001b[39;00m:\n\u001b[0;32m---> 33\u001b[0m         \u001b[39mraise\u001b[39;00m AuthError(\n\u001b[1;32m     34\u001b[0m             \u001b[39mf\u001b[39m\u001b[39m\"\u001b[39m\u001b[39mMust specify env var POLYGON_API_KEY or pass api_key in constructor\u001b[39m\u001b[39m\"\u001b[39m\n\u001b[1;32m     35\u001b[0m         )\n\u001b[1;32m     36\u001b[0m     \u001b[39mself\u001b[39m\u001b[39m.\u001b[39mAPI_KEY \u001b[39m=\u001b[39m api_key\n\u001b[1;32m     37\u001b[0m     \u001b[39mself\u001b[39m\u001b[39m.\u001b[39mBASE \u001b[39m=\u001b[39m base\n",
      "\u001b[0;31mAuthError\u001b[0m: Must specify env var POLYGON_API_KEY or pass api_key in constructor"
     ]
    }
   ],
   "source": [
    "from polygon import RESTClient\n",
    "\n",
    "client = RESTClient()\n",
    "\n",
    "trades = []\n",
    "for t in client.list_trades(\"AAA\", \"2022-04-04\", limit=5):\n",
    "    trades.append(t)\n",
    "print(trades)"
   ]
  },
  {
   "cell_type": "code",
   "execution_count": null,
   "metadata": {},
   "outputs": [],
   "source": [
    "from polygon.rest.models import Sort\n",
    "\n",
    "client.list_trades(..., sort=Sort.ASC)"
   ]
  },
  {
   "cell_type": "code",
   "execution_count": null,
   "metadata": {},
   "outputs": [],
   "source": [
    "from polygon import RESTClient\n",
    "from typing import cast\n",
    "from urllib3 import HTTPResponse\n",
    "\n",
    "client = RESTClient()\n",
    "\n",
    "aggs = cast(\n",
    "    HTTPResponse,\n",
    "    client.get_aggs(\n",
    "        \"AAPL\",\n",
    "        1,\n",
    "        \"day\",\n",
    "        \"2022-04-01\",\n",
    "        \"2022-04-04\",\n",
    "        raw=True,\n",
    "    ),\n",
    ")\n",
    "print(aggs.geturl())\n",
    "# https://api.polygon.io/v2/aggs/ticker/AAPL/range/1/day/2022-04-01/2022-04-04\n",
    "print(aggs.status)\n",
    "# 200\n",
    "print(aggs.data)\n",
    "# b'{\n",
    "#    \"ticker\": \"AAPL\",\n",
    "#    \"queryCount\": 2,\n",
    "#    \"resultsCount\": 2,\n",
    "#    \"adjusted\": true,\n",
    "#    \"results\": [\n",
    "#      {\n",
    "#        \"v\": 78251328,\n",
    "#        \"vw\": 173.4143,\n",
    "#        \"o\": 174.03,\n",
    "#        \"c\": 174.31,\n",
    "#        \"h\": 174.88,\n",
    "#        \"l\": 171.94,\n",
    "#        \"t\": 1648785600000,\n",
    "#        \"n\": 661160\n",
    "#      },\n",
    "#      {\n",
    "#        \"v\": 76545983,\n",
    "#        \"vw\": 177.4855,\n",
    "#        \"o\": 174.57,\n",
    "#        \"c\": 178.44,\n",
    "#        \"h\": 178.49,\n",
    "#        \"l\": 174.44,\n",
    "#        \"t\": 1649044800000,\n",
    "#        \"n\": 630374\n",
    "#      }\n",
    "#    ],\n",
    "#    \"status\": \"OK\",\n",
    "#    \"request_id\": \"d8882a9d5194978819777f49c44b09c6\",\n",
    "#    \"count\": 2\n",
    "#  }'"
   ]
  },
  {
   "cell_type": "code",
   "execution_count": null,
   "metadata": {},
   "outputs": [],
   "source": [
    "from polygon import RESTClient\n",
    "from typing import cast\n",
    "from urllib3 import HTTPResponse\n",
    "\n",
    "client = RESTClient()\n",
    "\n",
    "trades = cast(\n",
    "    HTTPResponse,\n",
    "    client.list_trades(\"AAA\", \"2022-04-20\", 5, raw=True),\n",
    ")\n",
    "print(trades.data)\n",
    "# b'{\n",
    "#  \"results\": [\n",
    "#    {\n",
    "#      \"conditions\": [\n",
    "#        15\n",
    "#      ],\n",
    "#      \"exchange\": 11,\n",
    "#      \"id\": \"52983575627601\",\n",
    "#      \"participant_timestamp\": 1650499200029279200,\n",
    "#      \"price\": 24.875,\n",
    "#      \"sequence_number\": 1591291,\n",
    "#      \"sip_timestamp\": 1650499200029316600,\n",
    "#      \"size\": 100,\n",
    "#      \"tape\": 1\n",
    "#    },\n",
    "#    {\n",
    "#      \"conditions\": [\n",
    "#        38,\n",
    "#        41\n",
    "#      ],\n",
    "#      \"exchange\": 11,\n",
    "#      \"id\": \"52983575627600\",\n",
    "#      \"participant_timestamp\": 1650499200029279200,\n",
    "#      \"price\": 24.875,\n",
    "#      \"sequence_number\": 1591290,\n",
    "#      \"sip_timestamp\": 1650499200029316600,\n",
    "#      \"tape\": 1\n",
    "#    },\n",
    "#    {\n",
    "#      \"conditions\": [\n",
    "#        15\n",
    "#      ],\n",
    "#      \"exchange\": 11,\n",
    "#      \"id\": \"52983575622470\",\n",
    "#      \"participant_timestamp\": 1650493800003024000,\n",
    "#      \"price\": 24.875,\n",
    "#      \"sequence_number\": 1571279,\n",
    "#      \"sip_timestamp\": 1650493800003645400,\n",
    "#      \"size\": 100,\n",
    "#      \"tape\": 1\n",
    "#    },\n",
    "#    {\n",
    "#      \"conditions\": [\n",
    "#        38,\n",
    "#        41\n",
    "#      ],\n",
    "#      \"exchange\": 11,\n",
    "#      \"id\": \"52983575622469\",\n",
    "#      \"participant_timestamp\": 1650493800003024000,\n",
    "#      \"price\": 24.875,\n",
    "#      \"sequence_number\": 1571276,\n",
    "#      \"sip_timestamp\": 1650493800003635500,\n",
    "#      \"tape\": 1\n",
    "#    },\n",
    "#    {\n",
    "#      \"conditions\": [\n",
    "#        15\n",
    "#      ],\n",
    "#      \"exchange\": 11,\n",
    "#      \"id\": \"52983575556178\",\n",
    "#      \"participant_timestamp\": 1650485400002987800,\n",
    "#      \"price\": 24.875,\n",
    "#      \"sequence_number\": 1536223,\n",
    "#      \"sip_timestamp\": 1650485400003870000,\n",
    "#      \"size\": 100,\n",
    "#      \"tape\": 1\n",
    "#    }\n",
    "#  ],\n",
    "#  \"status\": \"OK\",\n",
    "#  \"request_id\": \"618bb99e7a632ed9f55454a541404b44\",\n",
    "#  \"next_url\": \"https://api.polygon.io/v3/trades/AAA?cursor=YXA9NSZhcz0mbGltaXQ9NSZvcmRlcj1kZXNjJnNvcnQ9dGltZXN0YW1wJnRpbWVzdGFtcC5ndGU9MjAyMi0wNC0yMFQwNCUzQTAwJTNBMDBaJnRpbWVzdGFtcC5sdGU9MjAyMi0wNC0yMFQyMCUzQTEwJTNBMDAuMDAzODY5OTUyWg\""
   ]
  },
  {
   "cell_type": "code",
   "execution_count": null,
   "metadata": {},
   "outputs": [],
   "source": [
    "from polygon import WebSocketClient\n",
    "from polygon.websocket.models import WebSocketMessage\n",
    "from typing import List\n",
    "\n",
    "c = WebSocketClient(subscriptions=[\"T.*\"])\n",
    "\n",
    "\n",
    "def handle_msg(msgs: List[WebSocketMessage]):\n",
    "    for m in msgs:\n",
    "        print(m)\n",
    "\n",
    "\n",
    "c.run(handle_msg)\n"
   ]
  },
  {
   "cell_type": "code",
   "execution_count": null,
   "metadata": {},
   "outputs": [],
   "source": [
    "from polygon import WebSocketClient\n",
    "from polygon.websocket.models import WebSocketMessage, EquityTrade\n",
    "from typing import List\n",
    "\n",
    "c = WebSocketClient(subscriptions=[\"T.*\"])\n",
    "\n",
    "\n",
    "class MessageHandler:\n",
    "    count = 0\n",
    "\n",
    "    def handle_msg(self, msgs: List[WebSocketMessage]):\n",
    "        for m in msgs:\n",
    "            if type(m) == EquityTrade:\n",
    "                print(self.count, m)\n",
    "                self.count += 1\n",
    "\n",
    "\n",
    "h = MessageHandler()\n",
    "\n",
    "\n",
    "def handle_msg(msgs: List[WebSocketMessage]):\n",
    "    h.handle_msg(msgs)\n",
    "\n",
    "\n",
    "c.run(handle_msg)"
   ]
  },
  {
   "cell_type": "code",
   "execution_count": null,
   "metadata": {},
   "outputs": [],
   "source": [
    "from polygon import WebSocketClient\n",
    "from polygon.websocket.models import WebSocketMessage\n",
    "from typing import List\n",
    "import asyncio\n",
    "\n",
    "c = WebSocketClient(subscriptions=[\"T.*\"])\n",
    "\n",
    "\n",
    "async def handle_msg(msgs: List[WebSocketMessage]):\n",
    "    for m in msgs:\n",
    "        print(m)\n",
    "\n",
    "\n",
    "async def timeout():\n",
    "    await asyncio.sleep(1)\n",
    "    print(\"unsubscribe_all\")\n",
    "    c.unsubscribe_all()\n",
    "    await asyncio.sleep(1)\n",
    "    print(\"close\")\n",
    "    await c.close()\n",
    "\n",
    "\n",
    "async def main():\n",
    "    await asyncio.gather(c.connect(handle_msg), timeout())\n",
    "\n",
    "\n",
    "asyncio.run(main())"
   ]
  },
  {
   "cell_type": "code",
   "execution_count": null,
   "metadata": {},
   "outputs": [],
   "source": [
    "from polygon import WebSocketClient\n",
    "from typing import Union\n",
    "import json\n",
    "\n",
    "c = WebSocketClient(subscriptions=[\"T.*\"], raw=True)\n",
    "\n",
    "\n",
    "def handle_msg(msgs: Union[str, bytes]):\n",
    "    print(json.loads(msgs))\n",
    "\n",
    "\n",
    "c.run(handle_msg)"
   ]
  }
 ],
 "metadata": {
  "kernelspec": {
   "display_name": "Python 3.9.12 ('base')",
   "language": "python",
   "name": "python3"
  },
  "language_info": {
   "codemirror_mode": {
    "name": "ipython",
    "version": 3
   },
   "file_extension": ".py",
   "mimetype": "text/x-python",
   "name": "python",
   "nbconvert_exporter": "python",
   "pygments_lexer": "ipython3",
   "version": "3.9.12"
  },
  "orig_nbformat": 4,
  "vscode": {
   "interpreter": {
    "hash": "fa0fc083a9a7b25dab36cbe71fb89b2f1907d4eced1698b208dea6977346b521"
   }
  }
 },
 "nbformat": 4,
 "nbformat_minor": 2
}
